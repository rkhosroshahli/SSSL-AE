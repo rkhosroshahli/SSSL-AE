{
 "cells": [
  {
   "cell_type": "code",
   "execution_count": 7,
   "id": "e70d0fb7-8ce8-47a7-bce4-c71802a9d871",
   "metadata": {},
   "outputs": [],
   "source": [
    "import numpy as np\n",
    "import tensorflow as tf\n",
    "from tensorflow import keras\n",
    "from sklearn.metrics import f1_score\n",
    "\n",
    "import matplotlib.pyplot as plt\n",
    "import pandas as pd\n",
    "\n",
    "import os\n",
    "#sys.path.insert(0, os.getcwd()) \n",
    "import sys\n",
    "sys.path.append('../')\n",
    "\n",
    "from Utils import mnist_processor\n",
    "from Utils import VAE, encoder_setup, decoder_setup\n",
    "from Utils import run_knn_classifier, run_mlp_classifier, ssl_mlp, ssl_knn\n",
    "from Utils import plot_orig_recon_imgs\n",
    "from Utils import init_classifier_dataset, init_hists"
   ]
  },
  {
   "cell_type": "code",
   "execution_count": 8,
   "id": "769cc55f-764d-4530-8ffb-8d421ec9c179",
   "metadata": {},
   "outputs": [],
   "source": [
    "# Main parameter\n",
    "IMG_PER_CLASS=10"
   ]
  },
  {
   "cell_type": "code",
   "execution_count": 9,
   "id": "ff8e04f0-6645-4935-8027-0849a52be91b",
   "metadata": {},
   "outputs": [
    {
     "name": "stdout",
     "output_type": "stream",
     "text": [
      "x_train shape: (60000, 28, 28, 1)\n",
      "60000 train samples\n",
      "10000 test samples\n"
     ]
    }
   ],
   "source": [
    "x_train, y_train, x_test, y_test=mnist_processor(keras.datasets.mnist)"
   ]
  },
  {
   "cell_type": "code",
   "execution_count": 4,
   "id": "e7f6d053-8dec-47c7-a615-3964cd9618d2",
   "metadata": {},
   "outputs": [],
   "source": [
    "# PARAMETERS\n",
    "epochs=30\n",
    "batch_size=128\n",
    "ndim=28\n",
    "latent_dim=128"
   ]
  },
  {
   "cell_type": "code",
   "execution_count": 5,
   "id": "31279396-cecc-4d9c-9cfe-74dbab6b5efa",
   "metadata": {},
   "outputs": [
    {
     "data": {
      "text/plain": [
       "<tensorflow.python.checkpoint.checkpoint.CheckpointLoadStatus at 0x16484c9e0b0>"
      ]
     },
     "execution_count": 5,
     "metadata": {},
     "output_type": "execute_result"
    }
   ],
   "source": [
    "encoder=encoder_setup(ndim=28, latent_dim=128)\n",
    "decoder=decoder_setup(latent_dim=128)\n",
    "vae = VAE(encoder, decoder)\n",
    "vae.compile(optimizer=keras.optimizers.Adam())\n",
    "vae.load_weights(f\"VAE_MNIST_{epochs}epochs_{batch_size}batch_50000train_vae_weights\")"
   ]
  },
  {
   "cell_type": "code",
   "execution_count": 6,
   "id": "99f1e253-8255-406c-a22c-5abc6a479358",
   "metadata": {},
   "outputs": [],
   "source": [
    "indices=np.load('digits_random_indices.npy')"
   ]
  },
  {
   "cell_type": "code",
   "execution_count": 7,
   "id": "8d398b8b-582a-4c17-867d-6074842a2b75",
   "metadata": {},
   "outputs": [
    {
     "name": "stdout",
     "output_type": "stream",
     "text": [
      "[[59331 55030 53857 58015 54368 57186 52305 55402 56397 58510]\n",
      " [54210 50477 51033 52317 59958 50652 50855 58056 57740 52078]\n",
      " [52224 56493 50381 58409 59855 59675 54326 55525 55559 53390]\n",
      " [59408 55881 57227 52432 54767 52022 58379 57856 53241 52751]\n",
      " [59407 52457 50835 50844 54769 54007 50889 56331 51270 54447]\n",
      " [52947 59064 56898 55349 50959 52452 57128 51254 56036 58790]\n",
      " [58770 53230 55512 52100 59907 51507 57514 53220 53331 52957]\n",
      " [56028 57365 51429 58099 54364 56017 50943 57286 52008 56346]\n",
      " [59636 50996 51160 53653 50762 57513 57411 59838 55741 52980]\n",
      " [59058 55347 56618 56166 51185 58616 50845 54592 52770 57545]]\n",
      "(100, 28, 28, 1)\n"
     ]
    }
   ],
   "source": [
    "x_train_classifier_initial, y_train_classifier_initial, x_test_classifier, y_test_classifier, indices=init_classifier_dataset(None, x_train, y_train, x_test, y_test,\n",
    "                                                                                                          IMG_PER_CLASS, indices)"
   ]
  },
  {
   "cell_type": "code",
   "execution_count": 8,
   "id": "2d425681-5234-4db7-969e-c5a2097632d1",
   "metadata": {},
   "outputs": [
    {
     "name": "stdout",
     "output_type": "stream",
     "text": [
      "Classifier Train F1-score 8.190e-01\n",
      "Train F1-score= 6.876e-01\n",
      "Test F1-score= 6.935e-01\n",
      "-------------------------------------\n",
      "Train dataset size= 200\n",
      "Classifier Train F1-score 9.089e-01\n",
      "Train F1-score= 7.411e-01\n",
      "Test F1-score= 7.516e-01\n",
      "-------------------------------------\n",
      "Train dataset size= 300\n",
      "Classifier Train F1-score 9.242e-01\n",
      "Train F1-score= 7.646e-01\n",
      "Test F1-score= 7.698e-01\n",
      "-------------------------------------\n",
      "Train dataset size= 400\n",
      "Classifier Train F1-score 9.327e-01\n",
      "Train F1-score= 7.756e-01\n",
      "Test F1-score= 7.807e-01\n",
      "-------------------------------------\n",
      "Train dataset size= 500\n",
      "Classifier Train F1-score 9.525e-01\n",
      "Train F1-score= 7.722e-01\n",
      "Test F1-score= 7.798e-01\n",
      "-------------------------------------\n",
      "Train dataset size= 600\n",
      "Classifier Train F1-score 9.456e-01\n",
      "Train F1-score= 7.755e-01\n",
      "Test F1-score= 7.779e-01\n",
      "-------------------------------------\n",
      "Train dataset size= 700\n",
      "Classifier Train F1-score 9.463e-01\n",
      "Train F1-score= 7.767e-01\n",
      "Test F1-score= 7.793e-01\n",
      "-------------------------------------\n",
      "Train dataset size= 800\n",
      "Classifier Train F1-score 9.494e-01\n",
      "Train F1-score= 7.830e-01\n",
      "Test F1-score= 7.855e-01\n",
      "-------------------------------------\n",
      "Train dataset size= 900\n",
      "Classifier Train F1-score 9.473e-01\n",
      "Train F1-score= 7.858e-01\n",
      "Test F1-score= 7.884e-01\n",
      "-------------------------------------\n",
      "Train dataset size= 1000\n",
      "Classifier Train F1-score 9.475e-01\n",
      "Train F1-score= 7.933e-01\n",
      "Test F1-score= 7.955e-01\n",
      "-------------------------------------\n",
      "Train dataset size= 1100\n",
      "Classifier Train F1-score 9.512e-01\n",
      "Train F1-score= 7.964e-01\n",
      "Test F1-score= 7.997e-01\n",
      "-------------------------------------\n",
      "Train dataset size= 1200\n",
      "Classifier Train F1-score 9.534e-01\n",
      "Train F1-score= 7.956e-01\n",
      "Test F1-score= 8.000e-01\n",
      "-------------------------------------\n",
      "Train dataset size= 1300\n",
      "Classifier Train F1-score 9.532e-01\n",
      "Train F1-score= 7.979e-01\n",
      "Test F1-score= 8.014e-01\n",
      "-------------------------------------\n",
      "Train dataset size= 1400\n",
      "Classifier Train F1-score 9.550e-01\n",
      "Train F1-score= 8.001e-01\n",
      "Test F1-score= 8.037e-01\n",
      "-------------------------------------\n",
      "Train dataset size= 1500\n",
      "Classifier Train F1-score 9.561e-01\n",
      "Train F1-score= 8.032e-01\n",
      "Test F1-score= 8.072e-01\n",
      "-------------------------------------\n",
      "Train dataset size= 1600\n",
      "Classifier Train F1-score 9.570e-01\n",
      "Train F1-score= 8.038e-01\n",
      "Test F1-score= 8.075e-01\n",
      "-------------------------------------\n",
      "Train dataset size= 1700\n",
      "Classifier Train F1-score 9.577e-01\n",
      "Train F1-score= 8.053e-01\n",
      "Test F1-score= 8.100e-01\n",
      "-------------------------------------\n",
      "Train dataset size= 1800\n",
      "Classifier Train F1-score 9.574e-01\n",
      "Train F1-score= 8.082e-01\n",
      "Test F1-score= 8.111e-01\n",
      "-------------------------------------\n",
      "Train dataset size= 1900\n",
      "Classifier Train F1-score 9.575e-01\n",
      "Train F1-score= 8.095e-01\n",
      "Test F1-score= 8.115e-01\n",
      "-------------------------------------\n",
      "Train dataset size= 2000\n",
      "Classifier Train F1-score 9.586e-01\n",
      "Train F1-score= 8.102e-01\n",
      "Test F1-score= 8.122e-01\n",
      "-------------------------------------\n",
      "Train dataset size= 2100\n",
      "Classifier Train F1-score 9.596e-01\n",
      "Train F1-score= 8.097e-01\n",
      "Test F1-score= 8.119e-01\n",
      "-------------------------------------\n",
      "Train dataset size= 2200\n",
      "Classifier Train F1-score 9.583e-01\n",
      "Train F1-score= 8.110e-01\n",
      "Test F1-score= 8.122e-01\n",
      "-------------------------------------\n",
      "Train dataset size= 2300\n",
      "Classifier Train F1-score 9.584e-01\n",
      "Train F1-score= 8.111e-01\n",
      "Test F1-score= 8.135e-01\n",
      "-------------------------------------\n",
      "Train dataset size= 2400\n",
      "Classifier Train F1-score 9.601e-01\n",
      "Train F1-score= 8.105e-01\n",
      "Test F1-score= 8.119e-01\n",
      "-------------------------------------\n",
      "Train dataset size= 2500\n",
      "Classifier Train F1-score 9.605e-01\n",
      "Train F1-score= 8.099e-01\n",
      "Test F1-score= 8.137e-01\n",
      "-------------------------------------\n",
      "Train dataset size= 2600\n",
      "Classifier Train F1-score 9.635e-01\n",
      "Train F1-score= 8.111e-01\n",
      "Test F1-score= 8.140e-01\n",
      "-------------------------------------\n",
      "Train dataset size= 2700\n",
      "Classifier Train F1-score 9.634e-01\n",
      "Train F1-score= 8.135e-01\n",
      "Test F1-score= 8.153e-01\n",
      "-------------------------------------\n",
      "Train dataset size= 2800\n",
      "Classifier Train F1-score 9.646e-01\n",
      "Train F1-score= 8.140e-01\n",
      "Test F1-score= 8.164e-01\n",
      "-------------------------------------\n",
      "Train dataset size= 2900\n",
      "Classifier Train F1-score 9.652e-01\n",
      "Train F1-score= 8.161e-01\n",
      "Test F1-score= 8.165e-01\n",
      "-------------------------------------\n",
      "Train dataset size= 3000\n",
      "Classifier Train F1-score 9.653e-01\n",
      "Train F1-score= 8.190e-01\n",
      "Test F1-score= 8.198e-01\n",
      "-------------------------------------\n",
      "Train dataset size= 3100\n",
      "Classifier Train F1-score 9.652e-01\n",
      "Train F1-score= 8.204e-01\n",
      "Test F1-score= 8.197e-01\n",
      "-------------------------------------\n",
      "Train dataset size= 3200\n",
      "Classifier Train F1-score 9.660e-01\n",
      "Train F1-score= 8.201e-01\n",
      "Test F1-score= 8.209e-01\n",
      "-------------------------------------\n",
      "Train dataset size= 3300\n",
      "Classifier Train F1-score 9.655e-01\n",
      "Train F1-score= 8.192e-01\n",
      "Test F1-score= 8.205e-01\n",
      "-------------------------------------\n",
      "Train dataset size= 3400\n",
      "Classifier Train F1-score 9.639e-01\n",
      "Train F1-score= 8.200e-01\n",
      "Test F1-score= 8.217e-01\n",
      "-------------------------------------\n",
      "Train dataset size= 3500\n",
      "Classifier Train F1-score 9.641e-01\n",
      "Train F1-score= 8.198e-01\n",
      "Test F1-score= 8.219e-01\n",
      "-------------------------------------\n",
      "Train dataset size= 3600\n",
      "Classifier Train F1-score 9.642e-01\n",
      "Train F1-score= 8.194e-01\n",
      "Test F1-score= 8.221e-01\n",
      "-------------------------------------\n",
      "Train dataset size= 3700\n",
      "Classifier Train F1-score 9.649e-01\n",
      "Train F1-score= 8.212e-01\n",
      "Test F1-score= 8.238e-01\n",
      "-------------------------------------\n",
      "Train dataset size= 3800\n",
      "Classifier Train F1-score 9.651e-01\n",
      "Train F1-score= 8.206e-01\n",
      "Test F1-score= 8.238e-01\n",
      "-------------------------------------\n",
      "Train dataset size= 3900\n",
      "Classifier Train F1-score 9.657e-01\n",
      "Train F1-score= 8.210e-01\n",
      "Test F1-score= 8.254e-01\n",
      "-------------------------------------\n",
      "Train dataset size= 4000\n",
      "Classifier Train F1-score 9.663e-01\n",
      "Train F1-score= 8.222e-01\n",
      "Test F1-score= 8.256e-01\n",
      "-------------------------------------\n",
      "Train dataset size= 4100\n",
      "Classifier Train F1-score 9.652e-01\n",
      "Train F1-score= 8.218e-01\n",
      "Test F1-score= 8.261e-01\n",
      "-------------------------------------\n",
      "Train dataset size= 4200\n",
      "Classifier Train F1-score 9.636e-01\n",
      "Train F1-score= 8.217e-01\n",
      "Test F1-score= 8.261e-01\n",
      "-------------------------------------\n",
      "Train dataset size= 4300\n",
      "Classifier Train F1-score 9.638e-01\n",
      "Train F1-score= 8.216e-01\n",
      "Test F1-score= 8.249e-01\n",
      "-------------------------------------\n",
      "Train dataset size= 4400\n",
      "Classifier Train F1-score 9.632e-01\n",
      "Train F1-score= 8.223e-01\n",
      "Test F1-score= 8.242e-01\n",
      "-------------------------------------\n",
      "Train dataset size= 4500\n",
      "Classifier Train F1-score 9.631e-01\n",
      "Train F1-score= 8.232e-01\n",
      "Test F1-score= 8.249e-01\n",
      "-------------------------------------\n",
      "Train dataset size= 4600\n",
      "Classifier Train F1-score 9.635e-01\n",
      "Train F1-score= 8.231e-01\n",
      "Test F1-score= 8.254e-01\n",
      "-------------------------------------\n",
      "Train dataset size= 4700\n",
      "Classifier Train F1-score 9.651e-01\n",
      "Train F1-score= 8.234e-01\n",
      "Test F1-score= 8.256e-01\n",
      "-------------------------------------\n",
      "Train dataset size= 4800\n",
      "Classifier Train F1-score 9.652e-01\n",
      "Train F1-score= 8.238e-01\n",
      "Test F1-score= 8.250e-01\n",
      "-------------------------------------\n",
      "Train dataset size= 4900\n",
      "Classifier Train F1-score 9.651e-01\n",
      "Train F1-score= 8.240e-01\n",
      "Test F1-score= 8.251e-01\n",
      "-------------------------------------\n",
      "Train dataset size= 5000\n",
      "Classifier Train F1-score 9.646e-01\n",
      "Train F1-score= 8.238e-01\n",
      "Test F1-score= 8.245e-01\n",
      "-------------------------------------\n"
     ]
    }
   ],
   "source": [
    "K=5\n",
    "MEAN=0\n",
    "STD=0.5\n",
    "NOISE_FACTOR=1.0\n",
    "                                                                                                          \n",
    "x_train_classifier, y_train_classifier=x_train_classifier_initial.copy(), y_train_classifier_initial.copy()\n",
    "hist_clf_train_classifier_f1, hist_clf_train_f1, hist_clf_test_f1=init_hists(run_knn_classifier, K,\n",
    "                                                                            x_train_classifier, y_train_classifier,\n",
    "                                                                             x_train, y_train.argmax(1),\n",
    "                                                                               x_test_classifier, y_test_classifier)\n",
    "\n",
    "\"\"\"if not os.path.exists(f\"plots/{sampling_method}\"):\n",
    "    os.mkdir(f\"plots/{sampling_method}\")\"\"\"\n",
    "\n",
    "for i in range(49):\n",
    "    selected_idx=range(0,IMG_PER_CLASS*10)\n",
    "    encoded_data = vae.encoder.predict(x_train_classifier[selected_idx], verbose=0)\n",
    "    encoded_img = encoded_data[-1]\n",
    "    noise_data = np.random.normal(MEAN, STD, size=encoded_img.shape)\n",
    "    perturbed_data = NOISE_FACTOR * (noise_data+encoded_img)\n",
    "    noised_img = vae.decoder.predict(perturbed_data, verbose=0)\n",
    "    # for j in range(IMG_PER_CLASS*10):\n",
    "    #     plot_orig_recon_imgs(x_train_classifier[j], noised_img[j], i*10+j, y_train_classifier[j], file_addr=f\"plots/{sampling_method}/{i*100+j}\")\n",
    "    \n",
    "    x_reconst_imgs=noised_img.copy()\n",
    "    y_reconst_imgs=y_train_classifier[selected_idx].copy()\n",
    "    \n",
    "    x_train_classifier = np.concatenate([x_train_classifier, x_reconst_imgs], axis=0)\n",
    "    y_train_classifier = np.concatenate([y_train_classifier, y_reconst_imgs])\n",
    "    \n",
    "    clf_train_classifier_f1, clf_train_f1, clf_test_f1=run_knn_classifier(K, x_train_classifier, y_train_classifier,\n",
    "                                                 x_train, y_train.argmax(1),\n",
    "                                                 x_test_classifier, y_test_classifier)\n",
    "    train_size=x_train_classifier.shape[0]\n",
    "    print(\"Train dataset size=\", train_size)\n",
    "    print(f\"Classifier Train F1-score {(clf_train_classifier_f1):.3e}\")\n",
    "    print(f\"Train F1-score= {(clf_train_f1):.3e}\")\n",
    "    print(f\"Test F1-score= {(clf_test_f1):.3e}\")\n",
    "    print(\"-------------------------------------\")\n",
    "    hist_clf_train_classifier_f1.append(clf_train_classifier_f1)\n",
    "    hist_clf_train_f1.append(clf_train_f1)\n",
    "    hist_clf_test_f1.append(clf_test_f1)\n",
    "    \n",
    "    #train_size=x_train_classifier.shape[0]\n",
    "    #if train_size>10000:\n",
    "    #    break"
   ]
  },
  {
   "cell_type": "code",
   "execution_count": 5,
   "id": "62c68a24-130c-476b-8de3-a081be0c463b",
   "metadata": {},
   "outputs": [
    {
     "ename": "NameError",
     "evalue": "name 'hist_clf_train_f1' is not defined",
     "output_type": "error",
     "traceback": [
      "\u001b[1;31m---------------------------------------------------------------------------\u001b[0m",
      "\u001b[1;31mNameError\u001b[0m                                 Traceback (most recent call last)",
      "Cell \u001b[1;32mIn[5], line 1\u001b[0m\n\u001b[1;32m----> 1\u001b[0m init_data\u001b[38;5;241m=\u001b[39m[\u001b[38;5;124m\"\u001b[39m\u001b[38;5;124mInitial 100 images\u001b[39m\u001b[38;5;124m\"\u001b[39m, \u001b[43mhist_clf_train_f1\u001b[49m[\u001b[38;5;241m0\u001b[39m], hist_clf_test_f1[\u001b[38;5;241m0\u001b[39m]]\n\u001b[0;32m      2\u001b[0m last_data\u001b[38;5;241m=\u001b[39m[\u001b[38;5;124mf\u001b[39m\u001b[38;5;124m\"\u001b[39m\u001b[38;5;132;01m{\u001b[39;00m\u001b[38;5;28mlen\u001b[39m(x_train_classifier)\u001b[38;5;132;01m}\u001b[39;00m\u001b[38;5;124m images\u001b[39m\u001b[38;5;124m\"\u001b[39m, hist_clf_train_f1[\u001b[38;5;241m-\u001b[39m\u001b[38;5;241m1\u001b[39m], hist_clf_test_f1[\u001b[38;5;241m-\u001b[39m\u001b[38;5;241m1\u001b[39m]]\n\u001b[0;32m      3\u001b[0m df\u001b[38;5;241m=\u001b[39mpd\u001b[38;5;241m.\u001b[39mDataFrame([init_data, last_data], columns\u001b[38;5;241m=\u001b[39m[\u001b[38;5;124m\"\u001b[39m\u001b[38;5;124mData\u001b[39m\u001b[38;5;124m\"\u001b[39m, \u001b[38;5;124m\"\u001b[39m\u001b[38;5;124mTrain\u001b[39m\u001b[38;5;124m\"\u001b[39m, \u001b[38;5;124m\"\u001b[39m\u001b[38;5;124mTest\u001b[39m\u001b[38;5;124m\"\u001b[39m])\n",
      "\u001b[1;31mNameError\u001b[0m: name 'hist_clf_train_f1' is not defined"
     ]
    }
   ],
   "source": [
    "init_data=[\"Initial 100 images\", hist_clf_train_f1[0], hist_clf_test_f1[0]]\n",
    "last_data=[f\"{len(x_train_classifier)} images\", hist_clf_train_f1[-1], hist_clf_test_f1[-1]]\n",
    "df=pd.DataFrame([init_data, last_data], columns=[\"Data\", \"Train\", \"Test\"])"
   ]
  },
  {
   "cell_type": "code",
   "execution_count": null,
   "id": "53d87e5f-2edd-4938-a8a2-a986471d9e79",
   "metadata": {},
   "outputs": [],
   "source": [
    "df"
   ]
  },
  {
   "cell_type": "code",
   "execution_count": 6,
   "id": "80d0277d-e10b-4e8b-a9e6-b4c11eebd8c9",
   "metadata": {},
   "outputs": [
    {
     "ename": "NameError",
     "evalue": "name 'df' is not defined",
     "output_type": "error",
     "traceback": [
      "\u001b[1;31m---------------------------------------------------------------------------\u001b[0m",
      "\u001b[1;31mNameError\u001b[0m                                 Traceback (most recent call last)",
      "Cell \u001b[1;32mIn[6], line 1\u001b[0m\n\u001b[1;32m----> 1\u001b[0m \u001b[43mdf\u001b[49m\u001b[38;5;241m.\u001b[39mto_csv(\u001b[38;5;124m\"\u001b[39m\u001b[38;5;124mgenerated_VAE_results.csv\u001b[39m\u001b[38;5;124m\"\u001b[39m, index\u001b[38;5;241m=\u001b[39m\u001b[38;5;28;01mFalse\u001b[39;00m)\n",
      "\u001b[1;31mNameError\u001b[0m: name 'df' is not defined"
     ]
    }
   ],
   "source": [
    "df.to_csv(\"generated_VAE_results.csv\", index=False)"
   ]
  },
  {
   "cell_type": "code",
   "execution_count": null,
   "id": "efd927fc",
   "metadata": {},
   "outputs": [],
   "source": []
  },
  {
   "cell_type": "code",
   "execution_count": 12,
   "id": "a1f5ed06-1711-49b5-906a-85b4d4809e63",
   "metadata": {},
   "outputs": [
    {
     "data": {
      "image/png": "[encoded data removed]",
      "text/plain": [
       "<Figure size 640x480 with 1 Axes>"
      ]
     },
     "metadata": {},
     "output_type": "display_data"
    }
   ],
   "source": [
    "plt.plot(hist_clf_train_f1, label=\"Train\")\n",
    "plt.plot(hist_clf_test_f1, label=\"Test\")\n",
    "\n",
    "plt.xlabel(\"Iteration\")\n",
    "plt.ylabel(\"F1-score\")\n",
    "plt.title(f\"K-NN Classification for VAE Generated Images per Iteration\")\n",
    "plt.legend()\n",
    "plt.grid()\n",
    "plt.show()"
   ]
  },
  {
   "cell_type": "code",
   "execution_count": 13,
   "id": "5016b8bc-19b9-429f-b5db-079ecb1222d7",
   "metadata": {},
   "outputs": [],
   "source": [
    "np.savez(\"history_generative_VAE.npz\", hist_clf_train_f1=hist_clf_train_f1, hist_clf_test_f1=hist_clf_test_f1)"
   ]
  },
  {
   "cell_type": "code",
   "execution_count": 14,
   "id": "fe51c173-3d73-4840-a773-3bdacaf1ca6d",
   "metadata": {},
   "outputs": [],
   "source": [
    "np.savez(\"VAE_Resconstructed_MNIST\", x_train_classifier=x_train_classifier, y_train_classifier=y_train_classifier)"
   ]
  },
  {
   "cell_type": "code",
   "execution_count": null,
   "id": "ee1b8fdc-de40-47d8-b460-14993db8d45b",
   "metadata": {},
   "outputs": [],
   "source": []
  }
 ],
 "metadata": {
  "kernelspec": {
   "display_name": "Python 3 (ipykernel)",
   "language": "python",
   "name": "python3"
  },
  "language_info": {
   "codemirror_mode": {
    "name": "ipython",
    "version": 3
   },
   "file_extension": ".py",
   "mimetype": "text/x-python",
   "name": "python",
   "nbconvert_exporter": "python",
   "pygments_lexer": "ipython3",
   "version": "3.10.9"
  }
 },
 "nbformat": 4,
 "nbformat_minor": 5
}
