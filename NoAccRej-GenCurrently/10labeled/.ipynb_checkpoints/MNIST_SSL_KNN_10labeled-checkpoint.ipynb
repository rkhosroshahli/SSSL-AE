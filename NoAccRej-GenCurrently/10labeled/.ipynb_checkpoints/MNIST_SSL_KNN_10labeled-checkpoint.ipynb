{
 "cells": [
  {
   "cell_type": "code",
   "execution_count": null,
   "metadata": {
    "id": "O8z3E2ZEyUO6"
   },
   "outputs": [],
   "source": [
    "import numpy as np\n",
    "import tensorflow as tf\n",
    "from tensorflow import keras\n",
    "from sklearn.metrics import f1_score\n",
    "\n",
    "import matplotlib.pyplot as plt"
   ]
  },
  {
   "cell_type": "code",
   "execution_count": null,
   "metadata": {
    "colab": {
     "base_uri": "https://localhost:8080/"
    },
    "id": "FvfbI_H_yhF_",
    "outputId": "e0bb7fe3-dd64-40e9-aee0-e13fc7dde557"
   },
   "outputs": [],
   "source": [
    "# Model / data parameters\n",
    "num_classes = 10\n",
    "input_shape = (28, 28, 1)\n",
    "ndim=28\n",
    "\n",
    "# Load the data and split it between train and test sets\n",
    "(x_train, y_train), (x_test, y_test) = keras.datasets.mnist.load_data()\n",
    "\n",
    "# Scale images to the [0, 1] range\n",
    "x_train = x_train.astype(\"float32\") / 255\n",
    "x_test = x_test.astype(\"float32\") / 255\n",
    "# Make sure images have shape (28, 28, 1)\n",
    "x_train = np.expand_dims(x_train, -1)\n",
    "x_test = np.expand_dims(x_test, -1)\n",
    "print(\"x_train shape:\", x_train.shape)\n",
    "print(x_train.shape[0], \"train samples\")\n",
    "print(x_test.shape[0], \"test samples\")\n",
    "\n",
    "\n",
    "# convert class vectors to binary class matrices\n",
    "y_train = keras.utils.to_categorical(y_train, num_classes)\n",
    "y_test = keras.utils.to_categorical(y_test, num_classes)"
   ]
  },
  {
   "cell_type": "code",
   "execution_count": null,
   "metadata": {},
   "outputs": [],
   "source": [
    "fashion_mnist = tf.keras.datasets.fashion_mnist\n",
    "\n",
    "(X_train_fs, y_train_fs), (X_test_fs, y_test_fs) = fashion_mnist.load_data()\n",
    "class_names = ['T-shirt/top', 'Trouser', 'Pullover', 'Dress', 'Coat',\n",
    "               'Sandal', 'Shirt', 'Sneaker', 'Bag', 'Ankle boot']"
   ]
  },
  {
   "cell_type": "code",
   "execution_count": null,
   "metadata": {},
   "outputs": [],
   "source": [
    "fig, axarr = plt.subplots(1,6, figsize=(10,8))\n",
    "for i in range(len(axarr)-3):\n",
    "    axarr[i].imshow(x_train[i].reshape(ndim,ndim), cmap='gist_gray')\n",
    "    axarr[i].set_title(f\"Label={y_train[i].argmax()}\")\n",
    "    axarr[i].yaxis.set_visible(False)\n",
    "    axarr[i].xaxis.set_visible(False)\n",
    "    \n",
    "for i in range(len(axarr)-3, len(axarr)):\n",
    "    axarr[i].imshow(X_train_fs[i].reshape(ndim,ndim), cmap='gist_gray')\n",
    "    axarr[i].set_title(f\"Label={class_names[y_train_fs[i]]}\")\n",
    "    axarr[i].yaxis.set_visible(False)\n",
    "    axarr[i].xaxis.set_visible(False)\n"
   ]
  },
  {
   "cell_type": "code",
   "execution_count": null,
   "metadata": {
    "id": "GEqOPOkd9Z5s"
   },
   "outputs": [],
   "source": [
    "def unison_shuffled_copies(a, b):\n",
    "    assert len(a) == len(b)\n",
    "    p = np.random.permutation(len(a))\n",
    "    return a[p], b[p]"
   ]
  },
  {
   "cell_type": "code",
   "execution_count": null,
   "metadata": {},
   "outputs": [],
   "source": [
    "from sklearn.neighbors import KNeighborsClassifier\n",
    "def run_classifier(x_train_classifer, y_train_classifer, x_test_classifer, y_test_classifer):\n",
    "        clf = KNeighborsClassifier(10)\n",
    "        clf.fit(x_train_classifer.reshape((len(x_train_classifer), ndim*ndim)), y_train_classifer)\n",
    "\n",
    "        y_pred = clf.predict(x_train_classifer.reshape((len(x_train_classifer), ndim*ndim)))\n",
    "        clf_train_f1 = f1_score(y_train_classifer, y_pred, average='macro')\n",
    "        y_pred = clf.predict(x_test_classifer.reshape((len(x_test_classifer), ndim*ndim)))\n",
    "        clf_test_f1 = f1_score(y_test_classifer, y_pred, average='macro')\n",
    "\n",
    "        print(f\"Train F1-score= {(clf_train_f1):.3e}\")\n",
    "        print(f\"Test F1-score= {(clf_test_f1):.3e}\")\n",
    "        \n",
    "        return clf_train_f1, clf_test_f1"
   ]
  },
  {
   "cell_type": "code",
   "execution_count": null,
   "metadata": {
    "id": "8_KKKg6z8CDF"
   },
   "outputs": [],
   "source": [
    "step=1\n",
    "mean=0\n",
    "std=0.05\n",
    "noise_factor=1.0"
   ]
  },
  {
   "cell_type": "code",
   "execution_count": null,
   "metadata": {
    "colab": {
     "base_uri": "https://localhost:8080/"
    },
    "id": "pLHT-Mu-tIo_",
    "outputId": "6ee071d6-60cc-46fd-81af-4b7096614ced"
   },
   "outputs": [],
   "source": [
    "autoencoder=keras.models.load_model('mnist_50epoch_128batch_50000train_autoencoder.h5')\n",
    "encoder=keras.models.load_model('mnist_50epoch_128batch_50000train_encoder.h5')\n",
    "decoder=keras.models.load_model('mnist_50epoch_128batch_50000train_decoder.h5')"
   ]
  },
  {
   "cell_type": "code",
   "execution_count": null,
   "metadata": {},
   "outputs": [],
   "source": [
    "img_per_class=1\n",
    "\n",
    "labeled_train_data_counter=np.zeros(10)\n",
    "labeled_train_data_indices=np.ones((10,img_per_class))*-1\n",
    "for i, y in enumerate(y_train[50000:]):\n",
    "    if labeled_train_data_counter.sum() == img_per_class*10:\n",
    "        break\n",
    "    y_arg = y.argmax()\n",
    "    counter= int(labeled_train_data_counter[y_arg])\n",
    "    if counter >= img_per_class:\n",
    "        continue\n",
    "    if labeled_train_data_indices[y_arg, counter] == -1:\n",
    "        labeled_train_data_counter[y_arg] +=1\n",
    "        labeled_train_data_indices[y_arg, counter] = i\n",
    "        \n",
    "labeled_train_data_indices=labeled_train_data_indices.astype(int)+50000\n",
    "\n",
    "indices=labeled_train_data_indices.flatten('F')\n",
    "x_train_classifer=x_train[indices].copy()\n",
    "y_train_classifer=y_train[indices].copy().argmax(axis=1)\n",
    "\n",
    "x_test_classifer=x_test.copy()\n",
    "y_test_classifer=y_test.copy().argmax(axis=1)\n",
    "\n",
    "print(x_train_classifer.shape)\n",
    "\n",
    "hist_clf_train_f1, hist_clf_test_f1=[], []\n",
    "\n",
    "clf_train_f1, clf_test_f1=run_classifier(x_train_classifer, y_train_classifer,\n",
    "                                         x_test_classifer, y_test_classifer)\n",
    "hist_clf_train_f1.append(clf_train_f1)\n",
    "hist_clf_test_f1.append(clf_test_f1)"
   ]
  },
  {
   "cell_type": "code",
   "execution_count": null,
   "metadata": {},
   "outputs": [],
   "source": [
    "labeled_train_data_indices"
   ]
  },
  {
   "cell_type": "code",
   "execution_count": null,
   "metadata": {},
   "outputs": [],
   "source": [
    "def plot_orig_recon_imgs(labeled_img, noised_img, iteration, y_true):\n",
    "    fig, axarr = plt.subplots(1,2)\n",
    "    axarr[0].imshow(labeled_img, cmap='gist_gray')\n",
    "    axarr[0].set_title(\"Original Image\")\n",
    "    axarr[0].yaxis.set_visible(False)\n",
    "    axarr[0].xaxis.set_visible(False)\n",
    "    axarr[1].imshow(noised_img[0], cmap='gist_gray')\n",
    "    axarr[1].set_title(\"Reconstructed Image\")\n",
    "    axarr[1].yaxis.set_visible(False)\n",
    "    axarr[1].xaxis.set_visible(False)\n",
    "    fig.suptitle(f\"Iteration {iteration}, Image Label: {y_true}\")\n",
    "    fig.savefig(f\"plots/iteration{iteration}\")\n",
    "    # plt.show()\n",
    "    plt.close()"
   ]
  },
  {
   "cell_type": "code",
   "execution_count": null,
   "metadata": {},
   "outputs": [],
   "source": [
    "idx=0\n",
    "iteration=0"
   ]
  },
  {
   "cell_type": "code",
   "execution_count": null,
   "metadata": {},
   "outputs": [],
   "source": [
    "# x_unseen=x_train[50000:].copy()\n",
    "# y_unseen=y_train[50000:].copy().argmax(axis=1)\n",
    "rejected_counter=0\n",
    "accepted_counter=0\n",
    "\n",
    "while iteration < 10000:\n",
    "\n",
    "    iteration+=1\n",
    "    print(f\"Iteration {iteration}:\")\n",
    "    \n",
    "    train_size=x_train_classifer.shape[0]\n",
    "    print(\"Train dataset size=\", train_size)\n",
    "    \n",
    "    random_idx=np.random.choice(train_size, 1)[0]\n",
    "    #idx=idx%(10*img_per_class)\n",
    "    random_idx=idx\n",
    "    print(random_idx)\n",
    "    labeled_img = x_train_classifer[random_idx]\n",
    "    encoded_data = encoder.predict(np.array([labeled_img]), verbose=0)\n",
    "    noise_data = noise_factor * np.random.normal(mean, std, size=encoded_data.shape)\n",
    "    perturbed_data = noise_data+encoded_data\n",
    "    noised_img = decoder.predict(perturbed_data, verbose=0)\n",
    "        \n",
    "    plot_orig_recon_imgs(labeled_img, noised_img, iteration, y_train_classifer[random_idx])\n",
    "    \n",
    "    x_train_classifer = np.concatenate([x_train_classifer, noised_img], axis=0)\n",
    "    y_train_classifer = np.concatenate([y_train_classifer, [y_train_classifer[random_idx]]])\n",
    "    \n",
    "    if iteration % 1000==0:\n",
    "        clf_train_f1, clf_test_f1=run_classifier(x_train_classifer, y_train_classifer,\n",
    "                                                 x_test_classifer, y_test_classifer)\n",
    "        hist_clf_train_f1.append(clf_train_f1)\n",
    "        hist_clf_test_f1.append(clf_test_f1)\n",
    "\n",
    "    idx+=1"
   ]
  },
  {
   "cell_type": "markdown",
   "metadata": {
    "id": "liA203VRDRMN"
   },
   "source": [
    "# Plots"
   ]
  },
  {
   "cell_type": "code",
   "execution_count": null,
   "metadata": {},
   "outputs": [],
   "source": [
    "np.savez('train_dataset_KNN', x_train=x_train_classifer, y_train=y_train_classifer)"
   ]
  },
  {
   "cell_type": "code",
   "execution_count": null,
   "metadata": {
    "colab": {
     "base_uri": "https://localhost:8080/",
     "height": 312
    },
    "id": "zRbtNAEK-Nea",
    "outputId": "60ded01b-6327-4816-9826-1fdf95065cf7"
   },
   "outputs": [],
   "source": [
    "plt.plot(hist_clf_train_f1)\n",
    "plt.xlabel(\"Iteration\")\n",
    "plt.ylabel(\"F1-score\")\n",
    "plt.title(\"Classifier Train F1-score\")"
   ]
  },
  {
   "cell_type": "code",
   "execution_count": null,
   "metadata": {
    "colab": {
     "base_uri": "https://localhost:8080/",
     "height": 312
    },
    "id": "nUkPQrNWqqzr",
    "outputId": "1a611807-d321-4977-fce9-6c6cd1deab58"
   },
   "outputs": [],
   "source": [
    "plt.plot(hist_clf_test_f1)\n",
    "plt.xlabel(\"Iteration\")\n",
    "plt.ylabel(\"F1-score\")\n",
    "plt.title(\"Classifier Test F1-score\")\n",
    "# plt.yscale('log')\n",
    "plt.show()"
   ]
  },
  {
   "cell_type": "code",
   "execution_count": null,
   "metadata": {
    "id": "ov-0i956QZse"
   },
   "outputs": [],
   "source": []
  }
 ],
 "metadata": {
  "accelerator": "GPU",
  "colab": {
   "provenance": []
  },
  "gpuClass": "standard",
  "kernelspec": {
   "display_name": "Python 3 (ipykernel)",
   "language": "python",
   "name": "python3"
  },
  "language_info": {
   "codemirror_mode": {
    "name": "ipython",
    "version": 3
   },
   "file_extension": ".py",
   "mimetype": "text/x-python",
   "name": "python",
   "nbconvert_exporter": "python",
   "pygments_lexer": "ipython3",
   "version": "3.9.12"
  }
 },
 "nbformat": 4,
 "nbformat_minor": 1
}
